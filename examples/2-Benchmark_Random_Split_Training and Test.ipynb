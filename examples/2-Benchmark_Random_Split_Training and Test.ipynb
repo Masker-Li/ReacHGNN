{
 "cells": [
  {
   "cell_type": "code",
   "execution_count": null,
   "id": "63afd502-2225-4871-9078-a26ba0018fa7",
   "metadata": {},
   "outputs": [],
   "source": [
    "import os, sys, torch\n",
    "sys.path.append(r\"../../ReacHGNN\")\n",
    "\n",
    "from reachgnn.benchmark.data import Radical_TSDG_Reaction_HeteroGraph_DataSet, Buchwald_Hartwig_Reaction_HeteroGraph_DataSet\n",
    "from reachgnn.benchmark.data import Imine_Thiol_CPA_EnantioSel_Reaction_HeteroGraph_DataSet, Suzuki_Miyaura_Reaction_HeteroGraph_DataSet\n",
    "from reachgnn.benchmark.data import DataSplit\n",
    "from reachgnn.nn import ReacHGNN\n",
    "from reachgnn.benchmark.trainer import Trainer, Plot_True_vs_Pred"
   ]
  },
  {
   "cell_type": "markdown",
   "id": "9b181237-a522-489b-ac5d-4eca0eb69f7e",
   "metadata": {},
   "source": [
    "# Buchwald_Hartwig_Reaction "
   ]
  },
  {
   "cell_type": "code",
   "execution_count": null,
   "id": "d914357d-a2df-4e94-ab89-54a39ab14662",
   "metadata": {},
   "outputs": [],
   "source": [
    "suffix = 'Buchwald_Hartwig_try001'\n",
    "save_dir = r'/data/ReacHGNN/trained/%s'%suffix\n",
    "if not os.path.isdir(save_dir):\n",
    "    os.makedirs(save_dir)\n",
    "\n",
    "PATH = r'%s/ReacHGNN_%s.pt'%(save_dir, suffix)\n",
    "\n",
    "dataset1 = Buchwald_Hartwig_Reaction_HeteroGraph_DataSet(r'../datasets/')\n",
    "train_loader, val_loader, test_loader= DataSplit(dataset1, 64, test_train_split=0.6, run_shuffle=True, random_seed=913, with_val=False) # 0.6 + 0.1 : 0.3\n",
    "hetero_metadata = dataset1.data.metadata()\n",
    "x_in_dim=dataset1.data.num_features[hetero_metadata[0][0]]\n",
    "edge_in_dim=dataset1.data.num_edge_features[hetero_metadata[1][0]]\n",
    "model = ReacHGNN(hetero_metadata, x_in_dim, edge_in_dim, num_pre_mpnn=1, num_blocks=9, hidden_dim=80)\n",
    "optim = torch.optim.Adam(filter(lambda p: p.requires_grad, model.parameters()), lr=0.002, weight_decay = 1e-5)\n",
    "Loss_Func = torch.nn.MSELoss(reduction='none')\n",
    "\n",
    "device = torch.device('cuda' if torch.cuda.is_available() else 'cpu')\n",
    "#model.to(device)\n",
    "\n",
    "torch.cuda.empty_cache()\n",
    "trainer1 = Trainer(PATH, model, train_loader, val_loader, test_loader, Loss_Func, optim, device)"
   ]
  },
  {
   "cell_type": "code",
   "execution_count": null,
   "id": "7176a7ee-b14e-416c-8021-ae43af80d2cc",
   "metadata": {},
   "outputs": [],
   "source": [
    "trainer1.run(epochs=500, print_step=20, log_d_step=20, print_train_log=False)\n",
    "\n",
    "y_preds, y_trues, y_idxs, test_loss, test_time = trainer1.predict(trainer1.test_loader, print_log=False)\n",
    "Plot_True_vs_Pred(y_trues, y_preds)\n",
    "trainer1.save_Trainer()"
   ]
  },
  {
   "cell_type": "markdown",
   "id": "831c92db-ee36-488a-a165-701741db8ffe",
   "metadata": {},
   "source": [
    "# Suzuki_Miyaura_Reaction"
   ]
  },
  {
   "cell_type": "code",
   "execution_count": null,
   "id": "36d31ac1-083a-48e5-a268-3b85b5f4b3e0",
   "metadata": {},
   "outputs": [],
   "source": [
    "suffix = 'Suzuki_Miyaura_try001'\n",
    "save_dir = r'/data/ReacHGNN/trained/%s'%suffix\n",
    "if not os.path.isdir(save_dir):\n",
    "    os.makedirs(save_dir)\n",
    "\n",
    "PATH = r'%s/ReacHGNN_%s.pt'%(save_dir, suffix)\n",
    "\n",
    "dataset2 = Suzuki_Miyaura_Reaction_HeteroGraph_DataSet(r'../datasets/')\n",
    "train_loader, val_loader, test_loader= DataSplit(dataset2, 128, test_train_split=0.6, run_shuffle=True, random_seed=152, with_val=False) # 0.6 + 0.1 : 0.3\n",
    "hetero_metadata = dataset2.data.metadata()\n",
    "x_in_dim=dataset2.data.num_features[hetero_metadata[0][0]]\n",
    "edge_in_dim=dataset2.data.num_edge_features[hetero_metadata[1][0]]\n",
    "model = ReacHGNN(hetero_metadata, x_in_dim, edge_in_dim, num_pre_mpnn=1, num_blocks=9, hidden_dim=64)\n",
    "optim = torch.optim.Adam(filter(lambda p: p.requires_grad, model.parameters()), lr=0.003, weight_decay = 1e-5)\n",
    "Loss_Func = torch.nn.MSELoss(reduction='none')\n",
    "\n",
    "device = torch.device('cuda' if torch.cuda.is_available() else 'cpu')\n",
    "#model.to(device)\n",
    "\n",
    "torch.cuda.empty_cache()\n",
    "trainer2 = Trainer(PATH, model, train_loader, val_loader, test_loader, Loss_Func, optim, device)"
   ]
  },
  {
   "cell_type": "code",
   "execution_count": null,
   "id": "972e81a6-3317-493f-87cd-f507f9c4e1bc",
   "metadata": {},
   "outputs": [],
   "source": [
    "trainer2.run(epochs=500, print_step=20, log_d_step=20, print_train_log=False)\n",
    "\n",
    "y_preds, y_trues, y_idxs, test_loss, test_time = trainer2.predict(trainer2.test_loader, print_log=False)\n",
    "Plot_True_vs_Pred(y_trues, y_preds)\n",
    "trainer2.save_Trainer()"
   ]
  },
  {
   "cell_type": "markdown",
   "id": "46b83be8-ff0b-4290-b0af-389a1321ea9a",
   "metadata": {},
   "source": [
    "# Radical_TSDG_Reaction"
   ]
  },
  {
   "cell_type": "code",
   "execution_count": null,
   "id": "145c60fe-ed7d-47cc-9bf5-87a9731bd1cb",
   "metadata": {},
   "outputs": [],
   "source": [
    "suffix = 'Radical_TSDG_try001'\n",
    "save_dir = r'/data/ReacHGNN/trained/%s'%suffix\n",
    "if not os.path.isdir(save_dir):\n",
    "    os.makedirs(save_dir)\n",
    "\n",
    "PATH = r'%s/ReacHGNN_%s.pt'%(save_dir, suffix)\n",
    "\n",
    "dataset3 = Radical_TSDG_Reaction_HeteroGraph_DataSet(r'../datasets/')\n",
    "train_loader, val_loader, test_loader= DataSplit(dataset3, 256, test_train_split=0.7, run_shuffle=True, random_seed=137, with_val=False) # 0.7 + 0.1 : 0.2\n",
    "hetero_metadata = dataset3.data.metadata()\n",
    "x_in_dim=dataset3.data.num_features[hetero_metadata[0][0]]\n",
    "edge_in_dim=dataset3.data.num_edge_features[hetero_metadata[1][0]]\n",
    "model = ReacHGNN(hetero_metadata, x_in_dim, edge_in_dim, num_pre_mpnn=1, num_blocks=9, hidden_dim=64)\n",
    "optim = torch.optim.Adam(filter(lambda p: p.requires_grad, model.parameters()), lr=0.003, weight_decay = 1e-5)\n",
    "Loss_Func = torch.nn.MSELoss(reduction='none')\n",
    "\n",
    "device = torch.device('cuda' if torch.cuda.is_available() else 'cpu')\n",
    "#model.to(device)\n",
    "\n",
    "torch.cuda.empty_cache()\n",
    "trainer3 = Trainer(PATH, model, train_loader, val_loader, test_loader, Loss_Func, optim, device)"
   ]
  },
  {
   "cell_type": "code",
   "execution_count": null,
   "id": "a09578db-4a56-4c96-8918-e167a7aeef1a",
   "metadata": {},
   "outputs": [],
   "source": [
    "trainer3.run(epochs=500, print_step=20, log_d_step=20, print_train_log=False)\n",
    "\n",
    "y_preds, y_trues, y_idxs, test_loss, test_time = trainer3.predict(trainer3.test_loader, print_log=False)\n",
    "Plot_True_vs_Pred(y_trues, y_preds)\n",
    "trainer3.save_Trainer()"
   ]
  },
  {
   "cell_type": "markdown",
   "id": "0ea6d6a7-f6a4-4d75-8c82-999096bcdea8",
   "metadata": {},
   "source": [
    "# Imine_Thiol_CPA_EnantioSel_Reaction"
   ]
  },
  {
   "cell_type": "code",
   "execution_count": null,
   "id": "225b710a-ad5f-4861-a6cf-8ed58e00f149",
   "metadata": {},
   "outputs": [],
   "source": [
    "suffix = 'Imine_Thiol_CPA_EnantioSel_try001'\n",
    "save_dir = r'/data/ReacHGNN/trained/%s'%suffix\n",
    "if not os.path.isdir(save_dir):\n",
    "    os.makedirs(save_dir)\n",
    "\n",
    "PATH = r'%s/ReacHGNN_%s.pt'%(save_dir, suffix)\n",
    "\n",
    "dataset4 = Imine_Thiol_CPA_EnantioSel_Reaction_HeteroGraph_DataSet(r'../datasets/')\n",
    "train_loader, val_loader, test_loader= DataSplit(dataset4, 16, test_train_split=0.4582, run_shuffle=True, random_seed=137, with_val=False) # 600 : 475 || 0.4582 + 0.1 : 0.4418\n",
    "hetero_metadata = dataset4.data.metadata()\n",
    "x_in_dim=dataset4.data.num_features[hetero_metadata[0][0]]\n",
    "edge_in_dim=dataset4.data.num_edge_features[hetero_metadata[1][0]]\n",
    "model = ReacHGNN(hetero_metadata, x_in_dim, edge_in_dim, num_pre_mpnn=1, num_blocks=5, hidden_dim=128)\n",
    "optim = torch.optim.Adam(filter(lambda p: p.requires_grad, model.parameters()), lr=0.002, weight_decay = 1e-5)\n",
    "Loss_Func = torch.nn.MSELoss(reduction='none')\n",
    "\n",
    "device = torch.device('cuda' if torch.cuda.is_available() else 'cpu')\n",
    "#model.to(device)\n",
    "\n",
    "torch.cuda.empty_cache()\n",
    "trainer4 = Trainer(PATH, model, train_loader, val_loader, test_loader, Loss_Func, optim, device)"
   ]
  },
  {
   "cell_type": "code",
   "execution_count": null,
   "id": "8442534b-168b-454b-a15a-fbd8a7d45b47",
   "metadata": {},
   "outputs": [],
   "source": [
    "trainer4.run(epochs=500, print_step=20, log_d_step=20, print_train_log=False)\n",
    "\n",
    "y_preds, y_trues, y_idxs, test_loss, test_time = trainer4.predict(trainer4.test_loader, print_log=False)\n",
    "Plot_True_vs_Pred(y_trues, y_preds)\n",
    "trainer4.save_Trainer()"
   ]
  }
 ],
 "metadata": {
  "kernelspec": {
   "display_name": "Python 3 (ipykernel)",
   "language": "python",
   "name": "python3"
  },
  "language_info": {
   "codemirror_mode": {
    "name": "ipython",
    "version": 3
   },
   "file_extension": ".py",
   "mimetype": "text/x-python",
   "name": "python",
   "nbconvert_exporter": "python",
   "pygments_lexer": "ipython3",
   "version": "3.9.13"
  }
 },
 "nbformat": 4,
 "nbformat_minor": 5
}
