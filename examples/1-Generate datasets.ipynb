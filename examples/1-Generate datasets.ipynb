{
 "cells": [
  {
   "cell_type": "code",
   "execution_count": null,
   "id": "ca6f3ae0-c989-4609-aad5-81118ce018f2",
   "metadata": {},
   "outputs": [],
   "source": [
    "import os, sys, shutil\n",
    "sys.path.append(r\"../../ReacHGNN\")\n"
   ]
  },
  {
   "cell_type": "markdown",
   "id": "73fa076e-c527-47dd-98ec-d9127a574b67",
   "metadata": {},
   "source": [
    "# benchmark datasets"
   ]
  },
  {
   "cell_type": "code",
   "execution_count": null,
   "id": "7e2b81a5-6ce4-4a73-b787-80d91fc50b02",
   "metadata": {},
   "outputs": [],
   "source": [
    "from reachgnn.benchmark.data import Radical_TSDG_Reaction_HeteroGraph_DataSet, Buchwald_Hartwig_Reaction_HeteroGraph_DataSet\n",
    "from reachgnn.benchmark.data import Imine_Thiol_CPA_EnantioSel_Reaction_HeteroGraph_DataSet, Suzuki_Miyaura_Reaction_HeteroGraph_DataSet"
   ]
  },
  {
   "cell_type": "code",
   "execution_count": null,
   "id": "2f96ca0d-731e-4bcb-87af-65e6c4b7135b",
   "metadata": {},
   "outputs": [],
   "source": [
    "root_dir = r'../datasets/'\n",
    "dataset1 = Buchwald_Hartwig_Reaction_HeteroGraph_DataSet(root_dir)\n",
    "print(dataset1)\n",
    "dataset1.data"
   ]
  },
  {
   "cell_type": "code",
   "execution_count": null,
   "id": "03a87ecd-e710-456e-92b7-5d28e833a053",
   "metadata": {},
   "outputs": [],
   "source": [
    "root_dir = r'../datasets/'\n",
    "dataset2 = Suzuki_Miyaura_Reaction_HeteroGraph_DataSet(root_dir)\n",
    "print(dataset2)\n",
    "dataset2.data"
   ]
  },
  {
   "cell_type": "code",
   "execution_count": null,
   "id": "b8598e6e-ce48-4df4-a13a-01d2c2fda5b3",
   "metadata": {},
   "outputs": [],
   "source": [
    "root_dir = r'../datasets/'\n",
    "dataset3 = Radical_TSDG_Reaction_HeteroGraph_DataSet(root_dir)\n",
    "print(dataset3)\n",
    "dataset3.data"
   ]
  },
  {
   "cell_type": "code",
   "execution_count": null,
   "id": "86abdf3b-28fb-4213-a639-b72fc6ea5cf2",
   "metadata": {},
   "outputs": [],
   "source": [
    "root_dir = r'../datasets/'\n",
    "dataset4 = Imine_Thiol_CPA_EnantioSel_Reaction_HeteroGraph_DataSet(root_dir)\n",
    "print(dataset4)\n",
    "dataset4.data"
   ]
  },
  {
   "cell_type": "markdown",
   "id": "bd40f434-dd7c-44a6-a777-ee8552884851",
   "metadata": {},
   "source": [
    "# Mayr dataset"
   ]
  },
  {
   "cell_type": "code",
   "execution_count": null,
   "id": "daae1f56-86f8-4215-952a-e4cc614372bc",
   "metadata": {},
   "outputs": [],
   "source": [
    "from reachgnn.mayr.data import Mayr_HeteroGraph_DataSet, Mayr_HeteroGraph_DataSet_inference"
   ]
  },
  {
   "cell_type": "code",
   "execution_count": null,
   "id": "82593f09-f931-4395-868b-2da9337ecdb1",
   "metadata": {},
   "outputs": [],
   "source": [
    "root_dir = r'../datasets/'\n",
    "dataset_train = Mayr_HeteroGraph_DataSet(root_dir, postfix='train')\n",
    "dataset_val = Mayr_HeteroGraph_DataSet(root_dir, postfix='val0')\n",
    "dataset_val1 = Mayr_HeteroGraph_DataSet(root_dir, postfix='val1')\n",
    "dataset_val2 = Mayr_HeteroGraph_DataSet(root_dir, postfix='val2')\n",
    "dataset_test = Mayr_HeteroGraph_DataSet(root_dir, postfix='test0')\n",
    "dataset_test1 = Mayr_HeteroGraph_DataSet(root_dir, postfix='test1')\n",
    "dataset_test2 = Mayr_HeteroGraph_DataSet(root_dir, postfix='test2')\n",
    "\n",
    "print(dataset_train)\n",
    "dataset_train.data"
   ]
  },
  {
   "cell_type": "code",
   "execution_count": null,
   "id": "f1d9fe11-cf5f-4e92-8536-852d420550d4",
   "metadata": {},
   "outputs": [],
   "source": [
    "root_dir = r'../datasets/'\n",
    "sdf_dir = os.path.join(root_dir, 'raw/Mayr/sdf')\n",
    "\n",
    "if not os.path.isdir(sdf_dir):\n",
    "    os.makedirs(sdf_dir)\n",
    "shutil.copy(os.path.join(os.path.dirname(sdf_dir), 'N_MP_63657.sdf'), sdf_dir)\n",
    "\n",
    "dataset_inference = Mayr_HeteroGraph_DataSet_inference(root_dir, postfix='test')"
   ]
  }
 ],
 "metadata": {
  "kernelspec": {
   "display_name": "Python 3 (ipykernel)",
   "language": "python",
   "name": "python3"
  },
  "language_info": {
   "codemirror_mode": {
    "name": "ipython",
    "version": 3
   },
   "file_extension": ".py",
   "mimetype": "text/x-python",
   "name": "python",
   "nbconvert_exporter": "python",
   "pygments_lexer": "ipython3",
   "version": "3.9.13"
  },
  "toc-autonumbering": true
 },
 "nbformat": 4,
 "nbformat_minor": 5
}
