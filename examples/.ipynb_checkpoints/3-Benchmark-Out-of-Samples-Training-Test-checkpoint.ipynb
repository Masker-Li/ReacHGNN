{
 "cells": [
  {
   "cell_type": "code",
   "execution_count": null,
   "id": "ce0a27b0-fa3e-428c-9f00-850011a75b3a",
   "metadata": {},
   "outputs": [],
   "source": [
    "import os, sys, torch\n",
    "sys.path.append(r\"../../ReacHGNN\")\n",
    "\n",
    "from reachgnn.benchmark.data import Radical_TSDG_Reaction_HeteroGraph_DataSet, Buchwald_Hartwig_Reaction_HeteroGraph_DataSet\n",
    "from reachgnn.benchmark.data import Imine_Thiol_CPA_EnantioSel_Reaction_HeteroGraph_DataSet, Suzuki_Miyaura_Reaction_HeteroGraph_DataSet\n",
    "from reachgnn.benchmark.data import DataSplit_test_BH, DataSplit_test_DE\n",
    "from reachgnn.nn import ReacHGNN\n",
    "from reachgnn.benchmark.trainer import Trainer, Plot_True_vs_Pred"
   ]
  },
  {
   "cell_type": "markdown",
   "id": "e5676344-2e95-49a8-a875-5382dc8002fd",
   "metadata": {},
   "source": [
    "# Buchwald_Hartwig_Reaction Test 1"
   ]
  },
  {
   "cell_type": "code",
   "execution_count": null,
   "id": "82d12b94-7ac1-413f-abcb-c8ef60ef6c06",
   "metadata": {},
   "outputs": [],
   "source": [
    "suffix = 'Buchwald_Hartwig_test1_try001'\n",
    "save_dir = r'/data/ReacHGNN/trained/%s'%suffix\n",
    "if not os.path.isdir(save_dir):\n",
    "    os.makedirs(save_dir)\n",
    "\n",
    "PATH = r'%s/ReacHGNN_%s.pt'%(save_dir, suffix)\n",
    "\n",
    "dataset1 = Buchwald_Hartwig_Reaction_HeteroGraph_DataSet(r'../datasets/')\n",
    "train_loader, val_loader, test_loader= DataSplit_test_BH(dataset1, 1, 64, file_pth='../datasets/raw/Buchwald_Hartwig/Test_4_split.csv')\n",
    "hetero_metadata = dataset1.data.metadata()\n",
    "x_in_dim=dataset1.data.num_features[hetero_metadata[0][0]]\n",
    "edge_in_dim=dataset1.data.num_edge_features[hetero_metadata[1][0]]\n",
    "model = ReacHGNN(hetero_metadata, x_in_dim, edge_in_dim, num_pre_mpnn=1, num_blocks=5, hidden_dim=80)\n",
    "optim = torch.optim.Adam(filter(lambda p: p.requires_grad, model.parameters()), lr=0.0002, weight_decay = 1e-5)\n",
    "Loss_Func = torch.nn.MSELoss(reduction='none')\n",
    "\n",
    "device = torch.device('cuda' if torch.cuda.is_available() else 'cpu')\n",
    "#model.to(device)\n",
    "\n",
    "torch.cuda.empty_cache()\n",
    "trainer1_T1 = Trainer(PATH, model, train_loader, val_loader, test_loader, Loss_Func, optim, device)"
   ]
  },
  {
   "cell_type": "code",
   "execution_count": null,
   "id": "8c9d0564-48ce-41c7-a588-3cca90e328f8",
   "metadata": {},
   "outputs": [],
   "source": [
    "trainer1_T1.run(epochs=200, print_step=20, log_d_step=20, print_train_log=False)\n",
    "\n",
    "y_preds, y_trues, y_idxs, test_loss, test_time = trainer1_T1.predict(trainer1_T1.test_loader, print_log=False)\n",
    "Plot_True_vs_Pred(y_trues, y_preds)\n",
    "trainer1_T1.save_Trainer()"
   ]
  },
  {
   "cell_type": "markdown",
   "id": "fc42ddab-b937-4104-a5cc-e4c7f68ae57e",
   "metadata": {},
   "source": [
    "# Buchwald_Hartwig_Reaction Test 2"
   ]
  },
  {
   "cell_type": "code",
   "execution_count": null,
   "id": "bcc094c4-d940-42dd-983a-eb04b33c8473",
   "metadata": {},
   "outputs": [],
   "source": [
    "suffix = 'Buchwald_Hartwig_test2_try001'\n",
    "save_dir = r'/data/ReacHGNN/trained/%s'%suffix\n",
    "if not os.path.isdir(save_dir):\n",
    "    os.makedirs(save_dir)\n",
    "\n",
    "PATH = r'%s/ReacHGNN_%s.pt'%(save_dir, suffix)\n",
    "\n",
    "dataset1 = Buchwald_Hartwig_Reaction_HeteroGraph_DataSet(r'../datasets/')\n",
    "train_loader, val_loader, test_loader= DataSplit_test_BH(dataset1, 2, 64, file_pth='../datasets/raw/Buchwald_Hartwig/Test_4_split.csv')\n",
    "hetero_metadata = dataset1.data.metadata()\n",
    "x_in_dim=dataset1.data.num_features[hetero_metadata[0][0]]\n",
    "edge_in_dim=dataset1.data.num_edge_features[hetero_metadata[1][0]]\n",
    "model = ReacHGNN(hetero_metadata, x_in_dim, edge_in_dim, num_pre_mpnn=1, num_blocks=5, hidden_dim=80)\n",
    "optim = torch.optim.Adam(filter(lambda p: p.requires_grad, model.parameters()), lr=0.0002, weight_decay = 1e-5)\n",
    "Loss_Func = torch.nn.MSELoss(reduction='none')\n",
    "\n",
    "device = torch.device('cuda' if torch.cuda.is_available() else 'cpu')\n",
    "#model.to(device)\n",
    "\n",
    "torch.cuda.empty_cache()\n",
    "trainer1_T2 = Trainer(PATH, model, train_loader, val_loader, test_loader, Loss_Func, optim, device)"
   ]
  },
  {
   "cell_type": "code",
   "execution_count": null,
   "id": "6d8a6207-b89d-4fd8-938a-43acd947a292",
   "metadata": {},
   "outputs": [],
   "source": [
    "trainer1_T2.run(epochs=200, print_step=20, log_d_step=20, print_train_log=False)\n",
    "\n",
    "y_preds, y_trues, y_idxs, test_loss, test_time = trainer1_T2.predict(trainer1_T2.test_loader, print_log=False)\n",
    "Plot_True_vs_Pred(y_trues, y_preds)\n",
    "trainer1_T2.save_Trainer()"
   ]
  },
  {
   "cell_type": "markdown",
   "id": "d4964e1a-7ff1-4ddf-9dd5-243b81b12611",
   "metadata": {},
   "source": [
    "# Buchwald_Hartwig_Reaction Test 3"
   ]
  },
  {
   "cell_type": "code",
   "execution_count": null,
   "id": "7cb0781c-af0e-4ee7-a392-1d9225ed4872",
   "metadata": {},
   "outputs": [],
   "source": [
    "suffix = 'Buchwald_Hartwig_test3_try001'\n",
    "save_dir = r'/data/ReacHGNN/trained/%s'%suffix\n",
    "if not os.path.isdir(save_dir):\n",
    "    os.makedirs(save_dir)\n",
    "\n",
    "PATH = r'%s/ReacHGNN_%s.pt'%(save_dir, suffix)\n",
    "\n",
    "dataset1 = Buchwald_Hartwig_Reaction_HeteroGraph_DataSet(r'../datasets/')\n",
    "train_loader, val_loader, test_loader= DataSplit_test_BH(dataset1, 3, 64, file_pth='../datasets/raw/Buchwald_Hartwig/Test_4_split.csv')\n",
    "hetero_metadata = dataset1.data.metadata()\n",
    "x_in_dim=dataset1.data.num_features[hetero_metadata[0][0]]\n",
    "edge_in_dim=dataset1.data.num_edge_features[hetero_metadata[1][0]]\n",
    "model = ReacHGNN(hetero_metadata, x_in_dim, edge_in_dim, num_pre_mpnn=1, num_blocks=5, hidden_dim=80)\n",
    "optim = torch.optim.Adam(filter(lambda p: p.requires_grad, model.parameters()), lr=0.0002, weight_decay = 1e-5)\n",
    "Loss_Func = torch.nn.MSELoss(reduction='none')\n",
    "\n",
    "device = torch.device('cuda' if torch.cuda.is_available() else 'cpu')\n",
    "#model.to(device)\n",
    "\n",
    "torch.cuda.empty_cache()\n",
    "trainer1_T3 = Trainer(PATH, model, train_loader, val_loader, test_loader, Loss_Func, optim, device)"
   ]
  },
  {
   "cell_type": "code",
   "execution_count": null,
   "id": "38686168-b1af-4d61-be2f-bdbcb44825f9",
   "metadata": {},
   "outputs": [],
   "source": [
    "trainer1_T3.run(epochs=200, print_step=20, log_d_step=20, print_train_log=False)\n",
    "\n",
    "y_preds, y_trues, y_idxs, test_loss, test_time = trainer1_T3.predict(trainer1_T3.test_loader, print_log=False)\n",
    "Plot_True_vs_Pred(y_trues, y_preds)\n",
    "trainer1_T3.save_Trainer()"
   ]
  },
  {
   "cell_type": "markdown",
   "id": "fdbe7f17-34bf-4268-89f1-6f68b4e206df",
   "metadata": {},
   "source": [
    "# Buchwald_Hartwig_Reaction Test 4"
   ]
  },
  {
   "cell_type": "code",
   "execution_count": null,
   "id": "b7130c3f-f493-4c1d-8674-e3043bae8226",
   "metadata": {},
   "outputs": [],
   "source": [
    "suffix = 'Buchwald_Hartwig_test4_try001'\n",
    "save_dir = r'/data/ReacHGNN/trained/%s'%suffix\n",
    "if not os.path.isdir(save_dir):\n",
    "    os.makedirs(save_dir)\n",
    "\n",
    "PATH = r'%s/ReacHGNN_%s.pt'%(save_dir, suffix)\n",
    "\n",
    "dataset1 = Buchwald_Hartwig_Reaction_HeteroGraph_DataSet(r'../datasets/')\n",
    "train_loader, val_loader, test_loader= DataSplit_test_BH(dataset1, 4, 64, file_pth='../datasets/raw/Buchwald_Hartwig/Test_4_split.csv')\n",
    "hetero_metadata = dataset1.data.metadata()\n",
    "x_in_dim=dataset1.data.num_features[hetero_metadata[0][0]]\n",
    "edge_in_dim=dataset1.data.num_edge_features[hetero_metadata[1][0]]\n",
    "model = ReacHGNN(hetero_metadata, x_in_dim, edge_in_dim, num_pre_mpnn=1, num_blocks=5, hidden_dim=80)\n",
    "optim = torch.optim.Adam(filter(lambda p: p.requires_grad, model.parameters()), lr=0.0002, weight_decay = 1e-5)\n",
    "Loss_Func = torch.nn.MSELoss(reduction='none')\n",
    "\n",
    "device = torch.device('cuda' if torch.cuda.is_available() else 'cpu')\n",
    "#model.to(device)\n",
    "\n",
    "torch.cuda.empty_cache()\n",
    "trainer1_T4 = Trainer(PATH, model, train_loader, val_loader, test_loader, Loss_Func, optim, device)"
   ]
  },
  {
   "cell_type": "code",
   "execution_count": null,
   "id": "0c222c75-5124-4022-8c8e-afd9017f4d38",
   "metadata": {},
   "outputs": [],
   "source": [
    "trainer1_T4.run(epochs=200, print_step=20, log_d_step=20, print_train_log=False)\n",
    "\n",
    "y_preds, y_trues, y_idxs, test_loss, test_time = trainer1_T4.predict(trainer1_T4.test_loader, print_log=False)\n",
    "Plot_True_vs_Pred(y_trues, y_preds)\n",
    "trainer1_T4.save_Trainer()"
   ]
  },
  {
   "cell_type": "markdown",
   "id": "47148fbf-a580-43c0-a383-bd0d8ddc3832",
   "metadata": {},
   "source": [
    "# Imine_Thiol_CPA_EnantioSel_Reaction Test"
   ]
  },
  {
   "cell_type": "code",
   "execution_count": null,
   "id": "2eb4a020-6c71-4c37-82b8-ac2effcd7320",
   "metadata": {},
   "outputs": [],
   "source": [
    "suffix = 'Imine_Thiol_CPA_EnantioSel_Test_try001'\n",
    "save_dir = r'/data/ReacHGNN/trained/%s'%suffix\n",
    "if not os.path.isdir(save_dir):\n",
    "    os.makedirs(save_dir)\n",
    "\n",
    "PATH = r'%s/ReacHGNN_%s.pt'%(save_dir, suffix)\n",
    "\n",
    "dataset4 = Imine_Thiol_CPA_EnantioSel_Reaction_HeteroGraph_DataSet(r'../datasets/')\n",
    "train_loader, val_loader, test_loader= DataSplit_test_DE(dataset4, 16, file_pth='../datasets/raw/Imine_Thiol_CPA_EnantioSel/TrainTest_384_216_304_171_split.csv')\n",
    "hetero_metadata = dataset4.data.metadata()\n",
    "x_in_dim=dataset4.data.num_features[hetero_metadata[0][0]]\n",
    "edge_in_dim=dataset4.data.num_edge_features[hetero_metadata[1][0]]\n",
    "model = ReacHGNN(hetero_metadata, x_in_dim, edge_in_dim, num_pre_mpnn=1, num_blocks=5, hidden_dim=128)\n",
    "optim = torch.optim.Adam(filter(lambda p: p.requires_grad, model.parameters()), lr=0.002, weight_decay = 1e-5)\n",
    "Loss_Func = torch.nn.MSELoss(reduction='none')\n",
    "\n",
    "device = torch.device('cuda' if torch.cuda.is_available() else 'cpu')\n",
    "#model.to(device)\n",
    "\n",
    "torch.cuda.empty_cache()\n",
    "trainer4_T = Trainer(PATH, model, train_loader, val_loader, test_loader, Loss_Func, optim, device)"
   ]
  },
  {
   "cell_type": "code",
   "execution_count": null,
   "id": "9cf5e88d-bb06-47bd-9185-d0c685260189",
   "metadata": {},
   "outputs": [],
   "source": [
    "trainer4_T.run(epochs=300, print_step=20, log_d_step=20, print_train_log=False)\n",
    "\n",
    "y_preds, y_trues, y_idxs, test_loss, test_time = trainer4_T.predict(trainer4_T.test_loader, print_log=False)\n",
    "Plot_True_vs_Pred(y_trues[:216], y_preds[:216]) # Test-Sub\n",
    "Plot_True_vs_Pred(y_trues[216:216+304], y_preds[216:216+304]) # Test-Cat\n",
    "Plot_True_vs_Pred(y_trues[216+304:], y_preds[216+304:]) # Test-Sub-Cat\n",
    "trainer4_T.save_Trainer()"
   ]
  }
 ],
 "metadata": {
  "kernelspec": {
   "display_name": "Python 3 (ipykernel)",
   "language": "python",
   "name": "python3"
  },
  "language_info": {
   "codemirror_mode": {
    "name": "ipython",
    "version": 3
   },
   "file_extension": ".py",
   "mimetype": "text/x-python",
   "name": "python",
   "nbconvert_exporter": "python",
   "pygments_lexer": "ipython3",
   "version": "3.9.13"
  }
 },
 "nbformat": 4,
 "nbformat_minor": 5
}
