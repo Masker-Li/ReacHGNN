{
 "cells": [
  {
   "cell_type": "code",
   "execution_count": null,
   "id": "7be02547-7fad-4b6f-bf5f-9a685e5fafd3",
   "metadata": {},
   "outputs": [],
   "source": [
    "import os, sys, torch\n",
    "sys.path.append(r\"../../ReacHGNN\")\n",
    "\n",
    "from reachgnn.mayr.data import Mayr_HeteroGraph_DataSet, Mayr_HeteroGraph_DataSet_inference\n",
    "from reachgnn.mayr.data import DataSplit\n",
    "from reachgnn.nn import ReacHGNN_noProd\n",
    "from reachgnn.mayr.trainer import Trainer_Mayr, Plot_True_vs_Pred"
   ]
  },
  {
   "cell_type": "code",
   "execution_count": null,
   "id": "4af62bb5-7670-4a0c-8517-d493cef9bec3",
   "metadata": {},
   "outputs": [],
   "source": [
    "def check_errors(y_preds, printlog=False):\n",
    "    y_preds = y_preds.numpy()\n",
    "    arr1 = y_preds.take([0,1,2,3,6,10,14,15])\n",
    "    arr2 = y_preds.take([4,5,7,8,9,11,12,13])\n",
    "    arr = np.concatenate((arr1, arr2))\n",
    "    pos_idx_sorted = np.argsort(np.argsort(arr))+1\n",
    "    bad_pos_ave = np.mean(pos_idx_sorted[:8])\n",
    "    good_pos_ave = np.mean(pos_idx_sorted[8:])\n",
    "    arr1.sort()\n",
    "    arr2.sort()\n",
    "    i, j = len(arr1)-1, 0\n",
    "    end = False\n",
    "    while i > 0 and j < len(arr2) and not end:\n",
    "        if arr1[i] > arr2[j]:\n",
    "            if i>1 and arr1[i-1] > arr2[j]: i-=1\n",
    "            else: end = True\n",
    "            if j<len(arr2)-1 and arr1[i] > arr2[j+1]: j+=1\n",
    "            else: end = True\n",
    "        else: end = True\n",
    "    cnt = len(arr1)-1-i+j+1\n",
    "    threshold = np.round((arr1[i]+arr2[j+1])/2, 2)\n",
    "    df = pd.DataFrame(np.round(y_preds.reshape(4,4).T, 2), \n",
    "             columns=['ACN', 'DME', 'DMSO', 'PC'], \n",
    "             index=['BF4-', 'PF6-', 'TDI-', 'TFSI-'])\n",
    "    if printlog:\n",
    "        print(i, j+1, cnt, threshold)\n",
    "        print(np.round(arr1, 2))\n",
    "        print(np.round(arr2, 2))\n",
    "    return cnt, threshold, df, arr, (bad_pos_ave, good_pos_ave)\n"
   ]
  },
  {
   "cell_type": "code",
   "execution_count": null,
   "id": "6d3bda16-ec63-4882-ae78-a4f23a2ea2a0",
   "metadata": {},
   "outputs": [],
   "source": [
    "import os\n",
    "from torch_geometric.loader import DataLoader\n",
    "\n",
    "suffix = 'Mayr_try027'\n",
    "save_dir = r'/data/rxn_InterAction/trained/%s'%suffix\n",
    "if not os.path.isdir(save_dir):\n",
    "    os.makedirs(save_dir)\n",
    "\n",
    "PATH = r'%s/HeteroGraph_InterAction_MPNN4_%s.pt'%(save_dir, suffix)\n",
    "\n",
    "dataset = Mayr_HeteroGraph_DataSet(r'../datasets/')\n",
    "train_loader, val_loader, val_loader1, val_loader2, test_loader, test_loader1, test_loader2 = DataSplit(r'../datasets/', 32)\n",
    "hetero_metadata = dataset.data.metadata()\n",
    "x_in_dim=dataset.data.num_features[hetero_metadata[0][0]]\n",
    "edge_in_dim=dataset.data.num_edge_features[hetero_metadata[1][0]]\n",
    "model = ReacHGNN_noProd(hetero_metadata, x_in_dim, edge_in_dim, num_pre_mpnn=1, num_blocks=5, hidden_dim=128)\n",
    "optim = torch.optim.Adam(filter(lambda p: p.requires_grad, model.parameters()), lr=0.0002, weight_decay = 1e-5)\n",
    "Loss_Func = torch.nn.MSELoss(reduction='none')\n",
    "\n",
    "device = torch.device('cuda' if torch.cuda.is_available() else 'cpu')\n",
    "#model.to(device)\n",
    "\n",
    "torch.cuda.empty_cache()\n",
    "trainer = Trainer_Mayr(PATH, model, train_loader, val_loader, val_loader1, val_loader2, \n",
    "                       test_loader, test_loader1, test_loader2, Loss_Func, optim, device)\n",
    "\n",
    "\n",
    "dataset_inference = Mayr_HeteroGraph_DataSet_inference(r'../datasets/', postfix='test')\n",
    "inference_loader = DataLoader(dataset_inference, batch_size=32, shuffle=False)"
   ]
  },
  {
   "cell_type": "code",
   "execution_count": null,
   "id": "d72c5f46-0913-48c0-aebf-21c804d54be6",
   "metadata": {},
   "outputs": [],
   "source": [
    "trainer.run(epochs=60, print_step=2, log_d_step=20, print_train_log=False)\n",
    "    \n",
    "y_preds, y_trues, y_idxs, test_loss, test_time = trainer.predict(trainer.test_loader, print_log=False)\n",
    "Plot_True_vs_Pred(y_trues, y_preds)\n",
    "y_preds1, y_trues1, y_idxs1, test_loss1, test_time1 = trainer.predict(trainer.test_loader1, print_log=False)\n",
    "Plot_True_vs_Pred(y_trues1, y_preds1)\n",
    "y_preds2, y_trues2, y_idxs2, test_loss2, test_time2 = trainer.predict(trainer.test_loader2, print_log=False)\n",
    "Plot_True_vs_Pred(y_trues2, y_preds2)\n",
    "y_preds, y_trues, y_idxs, test_loss, test_time = trainer.predict(inference_loader, print_log=False)\n",
    "\n",
    "cnt, threshold, df, arr, pos_ave = check_errors(y_preds)\n",
    "print(cnt, threshold, pos_ave)\n",
    "print(df)\n",
    "trainer.save_Trainer()"
   ]
  },
  {
   "cell_type": "code",
   "execution_count": null,
   "id": "46edc8bc-4d5d-4512-ba1a-415a17cc40a0",
   "metadata": {},
   "outputs": [],
   "source": []
  }
 ],
 "metadata": {
  "kernelspec": {
   "display_name": "Python 3 (ipykernel)",
   "language": "python",
   "name": "python3"
  },
  "language_info": {
   "codemirror_mode": {
    "name": "ipython",
    "version": 3
   },
   "file_extension": ".py",
   "mimetype": "text/x-python",
   "name": "python",
   "nbconvert_exporter": "python",
   "pygments_lexer": "ipython3",
   "version": "3.9.13"
  }
 },
 "nbformat": 4,
 "nbformat_minor": 5
}
